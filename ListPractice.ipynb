{
 "cells": [
  {
   "cell_type": "code",
   "execution_count": 36,
   "metadata": {},
   "outputs": [
    {
     "name": "stdout",
     "output_type": "stream",
     "text": [
      "[]\n"
     ]
    }
   ],
   "source": [
    "#Creating a list with []\n",
    "mylist = []\n",
    "print(mylist)"
   ]
  },
  {
   "cell_type": "code",
   "execution_count": 37,
   "metadata": {},
   "outputs": [
    {
     "name": "stdout",
     "output_type": "stream",
     "text": [
      "['Ford', 'Google', 'Apple']\n"
     ]
    }
   ],
   "source": [
    "mylist = ['Ford','Google','Apple']\n",
    "print(mylist)"
   ]
  },
  {
   "cell_type": "code",
   "execution_count": 38,
   "metadata": {},
   "outputs": [
    {
     "name": "stdout",
     "output_type": "stream",
     "text": [
      "['Ford', 'Google', 'Apple', 'Altran']\n"
     ]
    }
   ],
   "source": [
    "#append [value at the end of the list]\n",
    "mylist.append('Altran')\n",
    "print(mylist)"
   ]
  },
  {
   "cell_type": "code",
   "execution_count": 43,
   "metadata": {},
   "outputs": [
    {
     "name": "stdout",
     "output_type": "stream",
     "text": [
      "['Ford', 'Qualcom', 'Qualcom', 'Google', 'Apple', 'Altran', 'Infy', 'TCS']\n",
      "['Ford', 'Qualcom', 'Qualcom', 'Google', 'Apple', 'Altran', 'Infy', 'TCS', 'Infy', 'TCS']\n",
      "[1, 2, 2, 3]\n"
     ]
    }
   ],
   "source": [
    "#insert [value at a specific location]\n",
    "mylist.insert(1,'Qualcom')\n",
    "print(mylist)\n",
    "\n",
    "#extend [extend a list with another list]\n",
    "mylist.extend(['Infy','TCS'])\n",
    "print(mylist)\n",
    "print([1,2] + [2,3])"
   ]
  },
  {
   "cell_type": "code",
   "execution_count": 44,
   "metadata": {},
   "outputs": [
    {
     "name": "stdout",
     "output_type": "stream",
     "text": [
      "['Altran', 'Apple', 'Ford', 'Google', 'Infy', 'Infy', 'Qualcom', 'Qualcom', 'TCS', 'TCS']\n",
      "[2, 3, 4, 6, 8]\n",
      "[8, 6, 4, 3, 2]\n"
     ]
    }
   ],
   "source": [
    "#sorted : creates a new list containing the sorted version of the list given as paramter.doesnt modify the existing list\n",
    "#return value = sortedlist\n",
    "x = sorted(mylist)\n",
    "print(x)\n",
    "\n",
    "#sort : sorts a list and alters the original list \n",
    "#Has no return value\n",
    "z = [4,3,6,2,8]\n",
    "z.sort()\n",
    "print(z)\n",
    "\n",
    "#reverse : \n",
    "z.sort(reverse=True)\n",
    "print(z)\n"
   ]
  },
  {
   "cell_type": "code",
   "execution_count": 42,
   "metadata": {},
   "outputs": [
    {
     "name": "stdout",
     "output_type": "stream",
     "text": [
      "['Apple', 'Google', 'Infy', 'Qualcom', 'TCS']\n",
      "['Ford', 'Qualcom', 'Google', 'Apple', 'Altran', 'Infy', 'TCS']\n"
     ]
    }
   ],
   "source": [
    "#remove: removes the first occurrence of a value in the list\n",
    "x.remove('Altran')\n",
    "#pop : removes the element at a particular index provided\n",
    "x.pop(1)\n",
    "print(x)\n",
    "print(mylist)"
   ]
  },
  {
   "cell_type": "code",
   "execution_count": 8,
   "metadata": {},
   "outputs": [
    {
     "name": "stdout",
     "output_type": "stream",
     "text": [
      "[1, 2]\n",
      "10\n",
      "[9, 10]\n",
      "[3, 4, 5]\n"
     ]
    }
   ],
   "source": [
    "#Slicing : Extract a part of the list.1st number is included but last number is not included\n",
    "#starts from 0th index of p1 and will stop at 2nd index slicing all the elements till 4th index\n",
    "p1 = [1,2,3,4,5,6,7,8,9,10]\n",
    "p2 = p1[0:2]\n",
    "print(p2)\n",
    "\n",
    "#Slicing with a negative starts from the end, so this returns the last element\n",
    "print(p1[-1])\n",
    "\n",
    "#slicing 2 elements from the last\n",
    "print(p1[-2:])\n",
    "\n",
    "#return 2nd,3rd and 4th element\n",
    "print(p1[2:5])\n"
   ]
  },
  {
   "cell_type": "code",
   "execution_count": 9,
   "metadata": {},
   "outputs": [
    {
     "name": "stdout",
     "output_type": "stream",
     "text": [
      "55\n",
      "10\n",
      "1\n"
     ]
    }
   ],
   "source": [
    "#sum\n",
    "print(sum(p1))\n",
    "#max\n",
    "print(max(p1))\n",
    "#min\n",
    "print(min(p1))"
   ]
  },
  {
   "cell_type": "code",
   "execution_count": 10,
   "metadata": {},
   "outputs": [
    {
     "name": "stdout",
     "output_type": "stream",
     "text": [
      "False\n",
      "True\n"
     ]
    }
   ],
   "source": [
    "#Membership IN OR NOT IN\n",
    "print(22 in p1)\n",
    "print(1 in p1)"
   ]
  },
  {
   "cell_type": "code",
   "execution_count": 11,
   "metadata": {},
   "outputs": [
    {
     "name": "stdout",
     "output_type": "stream",
     "text": [
      "[100, 2, 3, 4, 5, 6, 7, 8, 9, 10]\n"
     ]
    }
   ],
   "source": [
    "#modify a value at a particular index\n",
    "#this replaces the 0th value with 100\n",
    "p1[0] = 100\n",
    "print(p1)"
   ]
  },
  {
   "cell_type": "code",
   "execution_count": 28,
   "metadata": {},
   "outputs": [
    {
     "name": "stdout",
     "output_type": "stream",
     "text": [
      "2\n",
      "4\n"
     ]
    }
   ],
   "source": [
    "#index : Returns the first index at which a value occurs \n",
    "z = [1,2,3,4,3,3]\n",
    "print(z.index(3))\n",
    "\n",
    "#2nd parameter : defines the start of your search\n",
    "print(z.index(3,4))"
   ]
  },
  {
   "cell_type": "code",
   "execution_count": 29,
   "metadata": {},
   "outputs": [
    {
     "name": "stdout",
     "output_type": "stream",
     "text": [
      "3\n"
     ]
    }
   ],
   "source": [
    "#count : Counts the number of times a value occured in a list\n",
    "z = [1,2,3,4,4,5,6,4]\n",
    "print(z.count(4))"
   ]
  },
  {
   "cell_type": "code",
   "execution_count": 33,
   "metadata": {},
   "outputs": [
    {
     "name": "stdout",
     "output_type": "stream",
     "text": [
      "[2, 3, 4, 6, 8]\n",
      "[8, 6, 4, 3, 2]\n"
     ]
    }
   ],
   "source": []
  },
  {
   "cell_type": "code",
   "execution_count": null,
   "metadata": {},
   "outputs": [],
   "source": []
  },
  {
   "cell_type": "code",
   "execution_count": null,
   "metadata": {},
   "outputs": [],
   "source": []
  }
 ],
 "metadata": {
  "kernelspec": {
   "display_name": "Python 3",
   "language": "python",
   "name": "python3"
  },
  "language_info": {
   "codemirror_mode": {
    "name": "ipython",
    "version": 3
   },
   "file_extension": ".py",
   "mimetype": "text/x-python",
   "name": "python",
   "nbconvert_exporter": "python",
   "pygments_lexer": "ipython3",
   "version": "3.7.6"
  }
 },
 "nbformat": 4,
 "nbformat_minor": 4
}
