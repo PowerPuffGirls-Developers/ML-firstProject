{
 "cells": [
  {
   "cell_type": "code",
   "execution_count": 35,
   "metadata": {},
   "outputs": [
    {
     "name": "stdout",
     "output_type": "stream",
     "text": [
      "{'age': 27, 'birthyear': 1992, 'name': 'sweta', 'mobile': ['7777777777', '1111111111', '7777777777']}\n",
      "\n",
      "{1: 'sweta1'}\n",
      "\n",
      "{1: ['1', '1', '2', '3']}\n",
      "\n",
      "{(1, 2): [1, 4]}\n",
      "\n",
      "{1: ['1', '1', '2', '3'], 2: ['3', '4', '5']}\n",
      "\n"
     ]
    },
    {
     "ename": "NameError",
     "evalue": "name 'mydit2' is not defined",
     "output_type": "error",
     "traceback": [
      "\u001b[1;31m---------------------------------------------------------------------------\u001b[0m",
      "\u001b[1;31mNameError\u001b[0m                                 Traceback (most recent call last)",
      "\u001b[1;32m<ipython-input-35-77ab01e74a33>\u001b[0m in \u001b[0;36m<module>\u001b[1;34m\u001b[0m\n\u001b[0;32m     28\u001b[0m \u001b[0mprint\u001b[0m\u001b[1;33m(\u001b[0m\u001b[0mmydict2\u001b[0m\u001b[1;33m)\u001b[0m\u001b[1;33m\u001b[0m\u001b[1;33m\u001b[0m\u001b[0m\n\u001b[0;32m     29\u001b[0m \u001b[0mprint\u001b[0m\u001b[1;33m(\u001b[0m\u001b[1;33m)\u001b[0m\u001b[1;33m\u001b[0m\u001b[1;33m\u001b[0m\u001b[0m\n\u001b[1;32m---> 30\u001b[1;33m \u001b[0mmydit2\u001b[0m\u001b[1;33m.\u001b[0m\u001b[0madd\u001b[0m\u001b[1;33m(\u001b[0m\u001b[1;33m{\u001b[0m\u001b[1;36m1\u001b[0m\u001b[1;33m:\u001b[0m\u001b[1;34m'ss'\u001b[0m\u001b[1;33m}\u001b[0m\u001b[1;33m)\u001b[0m\u001b[1;33m\u001b[0m\u001b[1;33m\u001b[0m\u001b[0m\n\u001b[0m\u001b[0;32m     31\u001b[0m \u001b[1;31m#Update\u001b[0m\u001b[1;33m\u001b[0m\u001b[1;33m\u001b[0m\u001b[1;33m\u001b[0m\u001b[0m\n\u001b[0;32m     32\u001b[0m \u001b[0mmydict2\u001b[0m\u001b[1;33m[\u001b[0m\u001b[1;36m2\u001b[0m\u001b[1;33m]\u001b[0m \u001b[1;33m=\u001b[0m \u001b[1;34m'sweta'\u001b[0m\u001b[1;33m\u001b[0m\u001b[1;33m\u001b[0m\u001b[0m\n",
      "\u001b[1;31mNameError\u001b[0m: name 'mydit2' is not defined"
     ]
    }
   ],
   "source": [
    "#Dictionary \n",
    "#key-value pairs [unique keys and each key is associated with a value]\n",
    "#unordered and changeable \n",
    "#[unordered :key values are stored in unordered manner because data is accessed using a key rather than index]\n",
    "#[changeable :we can always change the value of a key when needed]\n",
    "#initialized with {}\n",
    "mydict = {'age':27,\"birthyear\":1992,\"name\":\"sweta\",\"mobile\":[\"7777777777\",\"1111111111\",\"7777777777\"]}\n",
    "print(mydict)\n",
    "print()\n",
    "\n",
    "#Having duplicate keys, values are overriden\n",
    "mydict1 = {1:\"sweta0\",1:\"sweta1\"}\n",
    "print(mydict1)\n",
    "print()\n",
    "\n",
    "#Having duplicate values\n",
    "mydict2 = {1 : ['1','1','2','3']}\n",
    "print(mydict2)\n",
    "print()\n",
    "\n",
    "#Keys should be immutable [else you get error]\n",
    "mydict3 = {(1,2):[1,4]}\n",
    "print(mydict3)\n",
    "print()\n",
    "\n",
    "#Add\n",
    "mydict2[2] =['3','4','5']\n",
    "print(mydict2)\n",
    "print()\n",
    "\n",
    "#Update\n",
    "mydict2[2] = 'sweta'\n",
    "print(mydict2)\n",
    "print()\n",
    "\n",
    "#Update() function : dict.update(dict2) \n",
    "#Used for updating multiple keys and values at a time .It takes dictionary as a argument \n",
    "mydict3 = {4:'smita',5:'pinky',6:'guddy'}\n",
    "mydict2.update(mydict3)\n",
    "print(mydict2)"
   ]
  },
  {
   "cell_type": "code",
   "execution_count": 10,
   "metadata": {},
   "outputs": [
    {
     "name": "stdout",
     "output_type": "stream",
     "text": [
      "dict_keys(['age', 'birthyear', 'name', 'mobile'])\n",
      "\n",
      "dict_values([27, 1992, 'sweta', ['7777777777', '1111111111', '7777777777']])\n",
      "\n",
      "dict_items([('age', 27), ('birthyear', 1992), ('name', 'sweta'), ('mobile', ['7777777777', '1111111111', '7777777777'])])\n",
      "\n"
     ]
    }
   ],
   "source": [
    "#.keys()\n",
    "print(mydict.keys())\n",
    "print()\n",
    "\n",
    "#values()\n",
    "print(mydict.values())\n",
    "print()\n",
    "\n",
    "#items()\n",
    "print(mydict.items())\n",
    "print()"
   ]
  },
  {
   "cell_type": "code",
   "execution_count": 26,
   "metadata": {},
   "outputs": [
    {
     "name": "stdout",
     "output_type": "stream",
     "text": [
      "27\n",
      "27\n",
      "27\n"
     ]
    }
   ],
   "source": [
    "#get\n",
    "print(mydict.get('age'))\n",
    "\n",
    "#get the value for the key age and if it doesnt exit return 1\n",
    "print(mydict.get('age',1))\n",
    "\n",
    "print(mydict['age'])"
   ]
  },
  {
   "cell_type": "code",
   "execution_count": 34,
   "metadata": {},
   "outputs": [
    {
     "name": "stdout",
     "output_type": "stream",
     "text": [
      "{1: 'a', 2: 'b', 3: 'c'}\n",
      "<class 'dict'>\n",
      "{2: 'b', 3: 'c'}\n"
     ]
    },
    {
     "data": {
      "text/plain": [
       "'c'"
      ]
     },
     "execution_count": 34,
     "metadata": {},
     "output_type": "execute_result"
    }
   ],
   "source": [
    "#del : remove a key and its value from a dictionary\n",
    "adict = {1:'a',2:'b',3:'c'}\n",
    "print(adict)\n",
    "print(type(adict))\n",
    "del adict[1]\n",
    "print(adict)\n",
    "\n",
    "#pop : removes a key and returns the value \n",
    "adict.pop(3)\n",
    "# print(adict)"
   ]
  },
  {
   "cell_type": "code",
   "execution_count": 12,
   "metadata": {},
   "outputs": [
    {
     "name": "stdout",
     "output_type": "stream",
     "text": [
      "defaultdict(<class 'int'>, {'age': '22'})\n",
      "0\n"
     ]
    }
   ],
   "source": [
    "#defaultdict\n",
    "#advanced dictionary data type that allows you to specify a default data type\n",
    "from collections import defaultdict\n",
    "mydefaultdict = defaultdict(int)\n",
    "mydefaultdict['age'] = 22\n",
    "print(mydefaultdict)\n",
    "print(mydefaultdict['company'])\n"
   ]
  },
  {
   "cell_type": "code",
   "execution_count": null,
   "metadata": {},
   "outputs": [],
   "source": []
  }
 ],
 "metadata": {
  "kernelspec": {
   "display_name": "Python 3",
   "language": "python",
   "name": "python3"
  },
  "language_info": {
   "codemirror_mode": {
    "name": "ipython",
    "version": 3
   },
   "file_extension": ".py",
   "mimetype": "text/x-python",
   "name": "python",
   "nbconvert_exporter": "python",
   "pygments_lexer": "ipython3",
   "version": "3.7.6"
  }
 },
 "nbformat": 4,
 "nbformat_minor": 4
}
