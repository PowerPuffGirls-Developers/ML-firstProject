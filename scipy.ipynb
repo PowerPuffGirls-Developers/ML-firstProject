{
 "cells": [
  {
   "cell_type": "code",
   "execution_count": 3,
   "metadata": {},
   "outputs": [
    {
     "name": "stdout",
     "output_type": "stream",
     "text": [
      "(1.0, 0.0)\n"
     ]
    }
   ],
   "source": [
    "#Scipy\n",
    "#python library for scientific computating\n",
    "\n",
    "#Correlation : numerical measure of statistical relationship b/w 2 variables [the variables would be 2 columns of data for ex\n",
    "#temparature outside and the likelihood of rain]\n",
    "\n",
    "#Pearson's r value : calculate the correlation between 2 vectors of data.Value ranges b/w -1 and 1.\n",
    "#    -1 : negative correlation\n",
    "#    0 : no correlation\n",
    "#    1 : positive correlation\n",
    "\n",
    "#Examples: \n",
    "#    +ve correlation => correlation b/w height and weight.Taller ppl weight more\n",
    "#    -ve correlation => correlation b/w temperature outside and heating costs as it warmer outsie you run your heater less\n",
    "#    no correlation => no of shoes and your IQ\n",
    "       \n",
    "from scipy import stats\n",
    "import numpy as np\n",
    "\n",
    "array1 = np.array([1,2,3,4,5])\n",
    "array2 = array1\n",
    "print(stats.pearsonr(array1,array2))  #Calculate the correlation which will be 1(+ve correlation) since values are same\n",
    "\n",
    "#Result is a tuple containing two values\n",
    "#1st value => value of correlation(+ve)\n",
    "#2nd value =>p-value\n"
   ]
  },
  {
   "cell_type": "code",
   "execution_count": 7,
   "metadata": {},
   "outputs": [
    {
     "name": "stdout",
     "output_type": "stream",
     "text": [
      "[-11.39330757  -1.60901116  -6.37647236  -2.47950071  24.26692319\n",
      "  12.35610898   9.583641   -21.01546384   1.64667513  -2.6787546 ]\n"
     ]
    }
   ],
   "source": [
    "#Normal Distribution [Bell Curve] : symmmetric around the mean (values closer to the mean are more common)\n",
    "#Generating samples from Distributions\n",
    "#Generate data from a normal Distribution with a mean of 0 and a standard deiation of 10.\n",
    "from scipy import stats\n",
    "x = stats.norm.rvs(loc=0,scale=10,size=10) #Generate 10 values randomly sampled froma ND with mean=0 and SD=10\n",
    "print(x)\n",
    "\n",
    "#loc = mean , scale = standard deviation, size = no of samples to return"
   ]
  },
  {
   "cell_type": "code",
   "execution_count": 10,
   "metadata": {},
   "outputs": [
    {
     "name": "stdout",
     "output_type": "stream",
     "text": [
      "7.69459862670642e-24\n",
      "0.03989422804014327\n"
     ]
    }
   ],
   "source": [
    "#Probability Density Function:\n",
    "#Gives the relative likelihood that you would sample a particular value\n",
    "from scipy import stats\n",
    "p1 = stats.norm.pdf(x=-100,loc=0,scale=10) #Get the probability of sampling a value of -100\n",
    "p2 = stats.norm.pdf(x=0,loc=0,scale=10) #Get the probability of sampling a value of 0\n",
    "print(p1)\n",
    "print(p2)\n",
    "\n",
    "#Relatively it is much more unlikely to sample the value of -100 from the distribution than a value of 0"
   ]
  },
  {
   "cell_type": "code",
   "execution_count": 13,
   "metadata": {},
   "outputs": [
    {
     "name": "stdout",
     "output_type": "stream",
     "text": [
      "DescribeResult(nobs=500, minmax=(-2.9269575900964084, 3.1583120308845634), mean=0.040760383703008024, variance=1.2178255255809036, skewness=-0.01550660629430489, kurtosis=-0.2490780557143668)\n"
     ]
    }
   ],
   "source": [
    "#Descriptive Statistics\n",
    "#describe() : calculate multiple descriptive statistics for your array\n",
    "from scipy import stats \n",
    "#Calculate the descriptie statistics for 500 data points sampled from ND with mean 0 and SD=1\n",
    "print(stats.describe(stats.norm.rvs(loc=0,scale=1,size=500))) \n",
    "\n",
    "#nobs : no of observations\n",
    "#variance : square of standard deviation\n",
    "#skewness : measure of asymmetry of distribution\n",
    "#kurtosis : measure of \"tailedness\" of the distribution.A large value means there are more outliers"
   ]
  },
  {
   "cell_type": "code",
   "execution_count": null,
   "metadata": {},
   "outputs": [],
   "source": []
  }
 ],
 "metadata": {
  "kernelspec": {
   "display_name": "Python 3",
   "language": "python",
   "name": "python3"
  },
  "language_info": {
   "codemirror_mode": {
    "name": "ipython",
    "version": 3
   },
   "file_extension": ".py",
   "mimetype": "text/x-python",
   "name": "python",
   "nbconvert_exporter": "python",
   "pygments_lexer": "ipython3",
   "version": "3.7.6"
  }
 },
 "nbformat": 4,
 "nbformat_minor": 4
}
