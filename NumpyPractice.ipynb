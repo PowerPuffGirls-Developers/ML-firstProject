{
 "cells": [
  {
   "cell_type": "code",
   "execution_count": 5,
   "metadata": {},
   "outputs": [
    {
     "name": "stdout",
     "output_type": "stream",
     "text": [
      "[1 2 3 4 1]\n"
     ]
    }
   ],
   "source": [
    "#Numpy\n",
    "#Fast and efficient library for storing and manipulating data\n",
    "#Numpy Arrays differ from python lists => faster,less space,more functionality,fixed size and type defined at creation\n",
    "\n",
    "#Create a numpy array\n",
    "import numpy as np\n",
    "np_array = np.array([1,2,3,4,1])\n",
    "print(np_array)"
   ]
  },
  {
   "cell_type": "code",
   "execution_count": 6,
   "metadata": {},
   "outputs": [
    {
     "name": "stdout",
     "output_type": "stream",
     "text": [
      "[1 2 3 4]\n",
      "1.16619037896906\n",
      "4\n",
      "[ 1  4  9 16  1]\n",
      "31\n",
      "[2 4 6 8 2]\n",
      "(5,)\n"
     ]
    }
   ],
   "source": [
    "#unique : Gets the unique values\n",
    "print(np.unique(np_array))\n",
    "\n",
    "#std : Calculates the standard deviation\n",
    "print(np.std(np_array))\n",
    "\n",
    "#max : Calculates the maximun\n",
    "print(np_array.max())\n",
    "\n",
    "#squares of each value in the array\n",
    "print(np_array ** 2)\n",
    "\n",
    "#sum : Sum of squares the element\n",
    "print(np.sum(np_array ** 2))\n",
    "\n",
    "#Adds the arrays together element wise \n",
    "print(np_array + np_array)\n",
    "\n",
    "#shape : Gives you the shape(number of rows , number of columns)\n",
    "print(np_array.shape)"
   ]
  },
  {
   "cell_type": "code",
   "execution_count": 7,
   "metadata": {},
   "outputs": [
    {
     "name": "stdout",
     "output_type": "stream",
     "text": [
      "[[1 2 3]\n",
      " [4 5 6]]\n",
      "\n",
      "[[1 4]\n",
      " [2 5]\n",
      " [3 6]]\n",
      "\n",
      "(3, 2)\n",
      "\n",
      "5\n"
     ]
    }
   ],
   "source": [
    "#Two Dimensional Arrays : Represent matrix of data using numpy \n",
    "\n",
    "#Create a 2D array\n",
    "import numpy as np\n",
    "np_2D_array = np.array([[1,2,3],[4,5,6]])\n",
    "print(np_2D_array)\n",
    "print()\n",
    "\n",
    "#Transpose : swap the columns and rows \n",
    "np_2D_array_T = np_2D_array.T\n",
    "print(np_2D_array_T)\n",
    "print()\n",
    "\n",
    "#Shape \n",
    "print(np_2D_array_T.shape)\n",
    "print()\n",
    "\n",
    "#Accessing the elements of 2D array by index \n",
    "#1st index= row number , 2nd index = column number \n",
    "#Index starts from 0\n",
    "print(np_2D_array[1,1])"
   ]
  },
  {
   "cell_type": "code",
   "execution_count": 8,
   "metadata": {},
   "outputs": [
    {
     "name": "stdout",
     "output_type": "stream",
     "text": [
      "14\n",
      "\n"
     ]
    }
   ],
   "source": [
    "#Important Functionalities\n",
    "#DOT Product : Calculating the dot product of 2 vectors\n",
    "\n",
    "#dot\n",
    "np_array_dot = np.array([1,2,3])\n",
    "dot_product = np.dot(np_array_dot,np_array_dot)\n",
    "print(dot_product)\n",
    "print()"
   ]
  },
  {
   "cell_type": "code",
   "execution_count": 11,
   "metadata": {},
   "outputs": [
    {
     "name": "stdout",
     "output_type": "stream",
     "text": [
      "0.556207452176991\n",
      "\n",
      "[0.78913804 0.49463019 0.4693433  0.54146613 0.89778121]\n",
      "\n",
      "[[0.81133911 0.77199427]\n",
      " [0.42892101 0.35935116]\n",
      " [0.06086093 0.81854796]]\n",
      "\n",
      "[8 8]\n",
      "\n",
      "[[9 5]\n",
      " [7 9]\n",
      " [5 9]]\n"
     ]
    }
   ],
   "source": [
    "#Generating random Values\n",
    "#rand() : Returns a random bumber or numbers between 0 and 1\n",
    "#The number of random values returned depends on the shape provided to the function.If no shape given ,just a single number\n",
    "#is returnd\n",
    "\n",
    "#Generate a single random number in range [0,1]\n",
    "print(np.random.rand())\n",
    "print()\n",
    "\n",
    "#Generate a list of 5 values\n",
    "print(np.random.rand(5))\n",
    "print()\n",
    "\n",
    "#Generate a matrix of random number in range [0,1) with shape (3,2)\n",
    "print(np.random.rand(3,2))\n",
    "print()\n",
    "      \n",
    "#randint() : Returns random integers from low(inclusive) to high(exclusive) .low,high,size of the o/p\n",
    "#Low=5,High=10,Size=2 : generate 2 values between 5 and 10(exclusive)\n",
    "print(np.random.randint(5,10,2))\n",
    "print()\n",
    "\n",
    "#Low=5,High=10,Size=(3,2) : Generate a matrix of shape(3,2) with values between 5 and 10(exclusive)\n",
    "print(np.random.randint(5,10,(3,2)))"
   ]
  },
  {
   "cell_type": "code",
   "execution_count": 12,
   "metadata": {},
   "outputs": [
    {
     "name": "stdout",
     "output_type": "stream",
     "text": [
      "[4 2 3 5 1 2 5 3 1 2]\n",
      "[2 4 1]\n"
     ]
    }
   ],
   "source": [
    "#Sampling the data\n",
    "#Sampling is the way to take smaller groups from a population\n",
    "#choice() : allows you to pass an array,specify how many values to sample,and decide whether sampling to be done with or without\n",
    "#replacement. Sampling without replacement means the same value cant be sampled more than once\n",
    "\n",
    "array = np.array([1,2,3,4,5])\n",
    "\n",
    "#Sample 10 data points with replacement\n",
    "print(np.random.choice(array,10,replace=True))\n",
    "\n",
    "#Sample 3 data points without replacement\n",
    "print(np.random.choice(array,3,replace=False))"
   ]
  },
  {
   "cell_type": "code",
   "execution_count": 41,
   "metadata": {},
   "outputs": [
    {
     "name": "stdout",
     "output_type": "stream",
     "text": [
      "[10, 8, 1, 4, 6, 9, 3, 2, 7, 5]\n",
      "\n",
      "[1, 2, 6, 3, 5, 4]\n"
     ]
    }
   ],
   "source": [
    "#Randomly Shuffling values\n",
    "#shuffle : randomly shuffle your array\n",
    "\n",
    "x = [1,2,3,4,5,6,7,8,9,10] #create a list of 5 elements\n",
    "np.random.shuffle(x)\n",
    "print(x)\n",
    "print() \n",
    "\n",
    "#seed : If you want the random selections to be same every time \n",
    "#np.random.seed() : we have to supply the function with an integer to seed the randomness,so the result can be replicated\n",
    "#as long as the same seed is used.\n",
    "np.random.seed(42)\n",
    "y = [1,2,3,4,5,6]\n",
    "np.random.shuffle(y)\n",
    "print(y)"
   ]
  },
  {
   "cell_type": "code",
   "execution_count": null,
   "metadata": {},
   "outputs": [],
   "source": []
  },
  {
   "cell_type": "code",
   "execution_count": null,
   "metadata": {},
   "outputs": [],
   "source": []
  }
 ],
 "metadata": {
  "kernelspec": {
   "display_name": "Python 3",
   "language": "python",
   "name": "python3"
  },
  "language_info": {
   "codemirror_mode": {
    "name": "ipython",
    "version": 3
   },
   "file_extension": ".py",
   "mimetype": "text/x-python",
   "name": "python",
   "nbconvert_exporter": "python",
   "pygments_lexer": "ipython3",
   "version": "3.7.6"
  }
 },
 "nbformat": 4,
 "nbformat_minor": 4
}
