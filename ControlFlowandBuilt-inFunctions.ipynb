{
 "cells": [
  {
   "cell_type": "code",
   "execution_count": 17,
   "metadata": {},
   "outputs": [
    {
     "name": "stdout",
     "output_type": "stream",
     "text": [
      "true\n"
     ]
    }
   ],
   "source": [
    "#Control Structures in Python : \n",
    "#    1)if-else construct\n",
    "#    2)for construct\n",
    "#Built-in functions in python : \n",
    "#    1)sort funtion\n",
    "#    2)zip function\n",
    "#combining 2 list into a tuple \n",
    "#breaking tuple into 2 list\n",
    "\n",
    "#Identation is important \n",
    "\n",
    "a = 5 \n",
    "if a == 5:\n",
    "    print(\"true\")"
   ]
  },
  {
   "cell_type": "code",
   "execution_count": 8,
   "metadata": {},
   "outputs": [
    {
     "name": "stdout",
     "output_type": "stream",
     "text": [
      "older than 40\n",
      "None\n"
     ]
    }
   ],
   "source": [
    "#The if-else construct  [if-elif-else]\n",
    "#     if condition:\n",
    "#         statements\n",
    "#     elif condition:\n",
    "#         statements\n",
    "#     else:\n",
    "#         statements\n",
    "def age_check(age):\n",
    "    if age > 40:\n",
    "        print(\"older than 40\")\n",
    "    elif age > 30 and age <=40:\n",
    "        print(\"Between 30 and 40\")\n",
    "    else:\n",
    "        print('other')\n",
    "print(age_check(41))"
   ]
  },
  {
   "cell_type": "code",
   "execution_count": 12,
   "metadata": {},
   "outputs": [
    {
     "name": "stdout",
     "output_type": "stream",
     "text": [
      "0 sweta\n",
      "1 smita\n",
      "2 guddy\n",
      "3 pinky\n"
     ]
    }
   ],
   "source": [
    "#The loop construct\n",
    "#Loops allow to iterate over an iterable. [allows to iterate over a list or any other data types that allow iteration]\n",
    "#Accessing iterable index => you can contain your iterable in the enumerate() command to add a counter to your loop\n",
    "names = ['sweta','smita','guddy','pinky']\n",
    "for i,name in enumerate(names):\n",
    "    print(i,name)\n",
    "#     print(\"Index: {0}\".format(i))\n",
    "#     print(\"Value: {0}\".format(name))"
   ]
  },
  {
   "cell_type": "code",
   "execution_count": 15,
   "metadata": {},
   "outputs": [
    {
     "name": "stdout",
     "output_type": "stream",
     "text": [
      "[3, 4, 5, 6]\n",
      "[6, 7, 8, 9]\n"
     ]
    }
   ],
   "source": [
    "#range\n",
    "#Creates a list of values starting from the first number and ending at the number right before the last number\n",
    "#range(1,6) creates [1,2,3,4,5]\n",
    "numbers = [x+2 for x in range(1,5)]\n",
    "print(numbers)\n",
    "\n",
    "#printing >5\n",
    "numbersgt5 = [x for x in range(1,10) if x > 5]\n",
    "print(numbersgt5)"
   ]
  },
  {
   "cell_type": "code",
   "execution_count": 17,
   "metadata": {},
   "outputs": [
    {
     "name": "stdout",
     "output_type": "stream",
     "text": [
      "[-5, 2, 3, 4, 6]\n",
      "[6, -5, 4, 3, 2]\n"
     ]
    }
   ],
   "source": [
    "#sort() function \n",
    "#It sorts from smallest to largest\n",
    "mylist = [2,3,4,-5,6]\n",
    "mylist.sort()\n",
    "print(mylist)\n",
    "\n",
    "\n",
    "#sorted() function\n",
    "#Has more functionality to sorting\n",
    "#reverse parameter : reverse the order\n",
    "#key parameter : to specify the basis of your sort\n",
    "#Sort reversely on basis of absolute value\n",
    "mylist_sorted_abs = sorted(mylist,key=abs,reverse=True)\n",
    "print(mylist_sorted_abs)"
   ]
  },
  {
   "cell_type": "code",
   "execution_count": 20,
   "metadata": {},
   "outputs": [
    {
     "name": "stdout",
     "output_type": "stream",
     "text": [
      "[(1, 'x'), (2, 'y'), (3, 'z')]\n",
      "('x', 'y', 'z')\n",
      "(1, 2, 3)\n"
     ]
    }
   ],
   "source": [
    "#Zip Function \n",
    "#Combining 2 lists into a list of tuples\n",
    "#Breaking a tuple into two lists\n",
    "\n",
    "#Combining two lists into a list of tuples\n",
    "#zip actually returns a generator ,so we have to wrap it in list() to print it.This would not be necessary if you want to loop \n",
    "#over it though because generators are iterable\n",
    "list1 = [1,2,3]\n",
    "list2 = ['x','y','z']\n",
    "print(list(zip(list1,list2))) #combine and print\n",
    "\n",
    "\n",
    "#Breaking a tuple into two lists\n",
    "pairs = [('x',1),('y',2),('z',3)] #a list of tuples\n",
    "letters,numbers = zip(*pairs) #break into two lists\n",
    "print(letters)\n",
    "print(numbers)"
   ]
  },
  {
   "cell_type": "code",
   "execution_count": null,
   "metadata": {},
   "outputs": [],
   "source": []
  }
 ],
 "metadata": {
  "kernelspec": {
   "display_name": "Python 3",
   "language": "python",
   "name": "python3"
  },
  "language_info": {
   "codemirror_mode": {
    "name": "ipython",
    "version": 3
   },
   "file_extension": ".py",
   "mimetype": "text/x-python",
   "name": "python",
   "nbconvert_exporter": "python",
   "pygments_lexer": "ipython3",
   "version": "3.7.6"
  }
 },
 "nbformat": 4,
 "nbformat_minor": 4
}
