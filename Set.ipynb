{
 "cells": [
  {
   "cell_type": "code",
   "execution_count": 4,
   "metadata": {},
   "outputs": [
    {
     "name": "stdout",
     "output_type": "stream",
     "text": [
      "set()\n",
      "<class 'set'>\n",
      "{1, 2, 3, 4}\n"
     ]
    }
   ],
   "source": [
    "#Set\n",
    "#unordered collection of unique elements\n",
    "#any duplicates automatically gets removed\n",
    "#operations : union,intersection and difference\n",
    "#Initialize using set()\n",
    "myset = set()\n",
    "print(myset)\n",
    "\n",
    "#set containing values can be initialized using curly braces . [ if values are not present ,it becomes the dictionary]\n",
    "myset1 = {1,2,3,4,3}\n",
    "print(type(myset1))\n",
    "print(myset1)"
   ]
  },
  {
   "cell_type": "code",
   "execution_count": 18,
   "metadata": {},
   "outputs": [
    {
     "name": "stdout",
     "output_type": "stream",
     "text": [
      "{1, 2, 4, 5}\n"
     ]
    }
   ],
   "source": [
    "myset.add(1)\n",
    "myset.add(2)\n",
    "myset.add(4)\n",
    "myset.add(1)\n",
    "myset.add(5)\n",
    "print(myset)"
   ]
  },
  {
   "cell_type": "code",
   "execution_count": 19,
   "metadata": {},
   "outputs": [],
   "source": [
    "#remove : \n",
    "myset.remove(1)\n",
    "\n",
    "#remove gives KeyError if a particular key not present. Use discard instead\n",
    "\n",
    "#discard \n",
    "myset.discard(6)\n",
    "\n",
    "#clear: Remove all values from the set\n",
    "# myset.clear()"
   ]
  },
  {
   "cell_type": "code",
   "execution_count": 20,
   "metadata": {},
   "outputs": [
    {
     "name": "stdout",
     "output_type": "stream",
     "text": [
      "{4, 5}\n"
     ]
    }
   ],
   "source": [
    "#intersection : prints the overlap\n",
    "myset2 = set()\n",
    "myset2.add(3)\n",
    "myset2.add(4)\n",
    "myset2.add(5)\n",
    "print(myset.intersection(myset2))"
   ]
  },
  {
   "cell_type": "code",
   "execution_count": 10,
   "metadata": {},
   "outputs": [
    {
     "name": "stdout",
     "output_type": "stream",
     "text": [
      "{1, 2, 3, 4, 5}\n"
     ]
    }
   ],
   "source": [
    "#union : prints the combinations\n",
    "print(myset.union(myset2))"
   ]
  },
  {
   "cell_type": "code",
   "execution_count": 11,
   "metadata": {},
   "outputs": [
    {
     "name": "stdout",
     "output_type": "stream",
     "text": [
      "{1, 2}\n"
     ]
    }
   ],
   "source": [
    "#difference : prints the difference [those in myset but not in myset2]\n",
    "print(myset.difference(myset2))"
   ]
  },
  {
   "cell_type": "code",
   "execution_count": 21,
   "metadata": {},
   "outputs": [
    {
     "name": "stdout",
     "output_type": "stream",
     "text": [
      "[1, 2, 3]\n"
     ]
    }
   ],
   "source": [
    "#Remove duplicates from the list\n",
    "print(list(set([1,2,3,1,2])))"
   ]
  }
 ],
 "metadata": {
  "kernelspec": {
   "display_name": "Python 3",
   "language": "python",
   "name": "python3"
  },
  "language_info": {
   "codemirror_mode": {
    "name": "ipython",
    "version": 3
   },
   "file_extension": ".py",
   "mimetype": "text/x-python",
   "name": "python",
   "nbconvert_exporter": "python",
   "pygments_lexer": "ipython3",
   "version": "3.7.6"
  }
 },
 "nbformat": 4,
 "nbformat_minor": 4
}
