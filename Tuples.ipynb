{
 "cells": [
  {
   "cell_type": "code",
   "execution_count": 4,
   "metadata": {},
   "outputs": [
    {
     "name": "stdout",
     "output_type": "stream",
     "text": [
      "()\n",
      "()\n",
      "<class 'tuple'>\n",
      "<class 'tuple'>\n"
     ]
    }
   ],
   "source": [
    "#Tuples\n",
    "#ordered collection of elements [like lists]\n",
    "#immuatable [unlike lists]\n",
    "empty_tuple = ()\n",
    "print(empty_tuple)\n",
    "\n",
    "#can be initalized using the tuple() function also\n",
    "empty_tuple2 = tuple()\n",
    "print(empty_tuple2)\n",
    "\n",
    "#Tuples can also be initialized without paranthesis\n",
    "a = 1,2,3,4\n",
    "print(type(a))\n",
    "\n",
    "b=(3,4,5,6)\n",
    "print(type(b))"
   ]
  },
  {
   "cell_type": "code",
   "execution_count": null,
   "metadata": {},
   "outputs": [],
   "source": [
    "type(empty_tuple)"
   ]
  },
  {
   "cell_type": "code",
   "execution_count": 8,
   "metadata": {},
   "outputs": [
    {
     "name": "stdout",
     "output_type": "stream",
     "text": [
      "<class 'tuple'>\n",
      "<class 'tuple'>\n",
      "('sweta', 'smita', 'guddy', 'pinky', 'sweta')\n"
     ]
    }
   ],
   "source": [
    "#Tuples once created cannot be changed [you cannt add /remove elements from tuple]\n",
    "names = ('sweta','smita','guddy','pinky')\n",
    "print(type(names))\n",
    "\n",
    "#Create a tuple with one value \n",
    "a1 = (\"sweta\",)\n",
    "print(type(a1))\n",
    "\n",
    "a2 = names + a1\n",
    "print(a2)\n",
    "# names.append('reni')\n"
   ]
  },
  {
   "cell_type": "code",
   "execution_count": 7,
   "metadata": {},
   "outputs": [
    {
     "data": {
      "text/plain": [
       "'smita'"
      ]
     },
     "execution_count": 7,
     "metadata": {},
     "output_type": "execute_result"
    }
   ],
   "source": [
    "#Fields of the tuple can be accessed by index\n",
    "names[1]\n",
    "# names[5]"
   ]
  },
  {
   "cell_type": "code",
   "execution_count": 12,
   "metadata": {},
   "outputs": [
    {
     "name": "stdout",
     "output_type": "stream",
     "text": [
      "('guddy', 'pinky')\n",
      "('sweta', 'smita', 'guddy', 'pinky')\n"
     ]
    }
   ],
   "source": [
    "#Slicing operation in tuple\n",
    "#Slicing operation creates the new tuple.The original tuple remains the same\n",
    "print(names[2:4])\n",
    "print(names)"
   ]
  },
  {
   "cell_type": "code",
   "execution_count": 17,
   "metadata": {},
   "outputs": [
    {
     "name": "stdout",
     "output_type": "stream",
     "text": [
      "('b', 'e', 'd', 's', 'h', 'e', 'e', 't')\n",
      "('apple', 'orange', 'mango')\n"
     ]
    }
   ],
   "source": [
    "#tuple() function \n",
    "#To quicky generate a tuple from the string\n",
    "character_tuple = tuple(\"bedsheet\")\n",
    "print(character_tuple)\n",
    "\n",
    "\n",
    "#convert list to a tuple\n",
    "fruits_list = ['apple','orange','mango']\n",
    "fruits_tuple = tuple(fruits_list)\n",
    "print(fruits_tuple)"
   ]
  },
  {
   "cell_type": "code",
   "execution_count": 25,
   "metadata": {},
   "outputs": [
    {
     "name": "stdout",
     "output_type": "stream",
     "text": [
      "True\n",
      "False\n"
     ]
    }
   ],
   "source": [
    "#Membership in \n",
    "print(\"apple\" in fruits_tuple)\n",
    "print(\"mango\" not in fruits_tuple)"
   ]
  },
  {
   "cell_type": "code",
   "execution_count": 11,
   "metadata": {},
   "outputs": [
    {
     "name": "stdout",
     "output_type": "stream",
     "text": [
      "2\n",
      "3\n"
     ]
    }
   ],
   "source": [
    "#index: Returns the first index at which the value occurs\n",
    "z = (1,2,4,6,4,4)\n",
    "print(z.index(4))\n",
    "\n",
    "#count: Returns the number of times the value occurs\n",
    "print(z.count(4))"
   ]
  },
  {
   "cell_type": "code",
   "execution_count": null,
   "metadata": {},
   "outputs": [],
   "source": []
  }
 ],
 "metadata": {
  "kernelspec": {
   "display_name": "Python 3",
   "language": "python",
   "name": "python3"
  },
  "language_info": {
   "codemirror_mode": {
    "name": "ipython",
    "version": 3
   },
   "file_extension": ".py",
   "mimetype": "text/x-python",
   "name": "python",
   "nbconvert_exporter": "python",
   "pygments_lexer": "ipython3",
   "version": "3.7.6"
  }
 },
 "nbformat": 4,
 "nbformat_minor": 4
}
